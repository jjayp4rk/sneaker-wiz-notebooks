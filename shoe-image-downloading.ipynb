{
 "cells": [
  {
   "cell_type": "markdown",
   "metadata": {},
   "source": [
    "## Welcome to Sneaker Wizard\n",
    "\n",
    "In this notebook we're going to download the training images of some dataset! In the github repository we've provided a list of sneakers .txt files that contains approximately ~300 image urls. \n",
    "\n",
    "If you already have a set of training images please refer to the next notebook 'PUT NOTEBOOK NAME LATER'."
   ]
  },
  {
   "cell_type": "markdown",
   "metadata": {},
   "source": [
    "Here we will import all the necessary packages, fastai V1 library"
   ]
  },
  {
   "cell_type": "code",
   "execution_count": null,
   "metadata": {},
   "outputs": [],
   "source": [
    "from fastai import * "
   ]
  },
  {
   "cell_type": "markdown",
   "metadata": {},
   "source": [
    "We'll go ahead and set the working path to our 'dataset/sneakers' directory where we will store all the different sneaker classes and their training images."
   ]
  },
  {
   "cell_type": "code",
   "execution_count": null,
   "metadata": {},
   "outputs": [],
   "source": [
    "path = Path('dataset/sneakers')"
   ]
  },
  {
   "cell_type": "markdown",
   "metadata": {},
   "source": [
    "The loop below will iterate over each list of 'sneaker_class'.txt files, download all training images, and store them into the working path."
   ]
  },
  {
   "cell_type": "code",
   "execution_count": null,
   "metadata": {},
   "outputs": [],
   "source": [
    "# You can adjust the max_pics to limit of 1000 and max_workers to 8.\n",
    "for file in os.listdir(Path('dataset/urls')):\n",
    "    folder = file[:-4]\n",
    "    dest = path/folder\n",
    "    dest.mkdir(parents=True, exist_ok=True)\n",
    "    download_images(Path('dataset/urls')/file, dest, max_pics=300, max_workers=8, timeout=4)   "
   ]
  },
  {
   "cell_type": "markdown",
   "metadata": {},
   "source": [
    "Let's go ahead and list out all the different sneaker classes and number of classes."
   ]
  },
  {
   "cell_type": "code",
   "execution_count": null,
   "metadata": {},
   "outputs": [],
   "source": [
    "classes = []\n",
    "for folder in os.listdir(Path('dataset/sneakers')):\n",
    "    shoe_name = folder\n",
    "    if shoe_name in classes:\n",
    "        pass\n",
    "    else:\n",
    "        classes.append(shoe_name)\n",
    "print(classes)\n",
    "print(len(classes))"
   ]
  },
  {
   "cell_type": "markdown",
   "metadata": {},
   "source": [
    "Next we'll verify the training images for each sneaker class, using Fastai's verify_images function. We'll go ahead and also set delete to 'True' in order to remove images that do not pass verification."
   ]
  },
  {
   "cell_type": "code",
   "execution_count": null,
   "metadata": {},
   "outputs": [],
   "source": [
    "for c in classes:\n",
    "    print(c)\n",
    "    verify_images(path/c, delete=True)"
   ]
  }
 ],
 "metadata": {
  "kernelspec": {
   "display_name": "Python 3",
   "language": "python",
   "name": "python3"
  },
  "language_info": {
   "codemirror_mode": {
    "name": "ipython",
    "version": 3
   },
   "file_extension": ".py",
   "mimetype": "text/x-python",
   "name": "python",
   "nbconvert_exporter": "python",
   "pygments_lexer": "ipython3",
   "version": "3.6.5"
  }
 },
 "nbformat": 4,
 "nbformat_minor": 2
}
