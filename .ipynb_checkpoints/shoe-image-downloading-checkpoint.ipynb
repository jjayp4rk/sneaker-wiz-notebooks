{
 "cells": [
  {
   "cell_type": "markdown",
   "metadata": {},
   "source": [
    "## Welcome to Sneaker Wizard\n",
    "\n",
    "In this notebook we're going to download the training images of some dataset! In this tutorial we've provided a list of sneakers with ap\n",
    "\n",
    "The following lines of code is for download bulk images for a given class, shoe. \n"
   ]
  },
  {
   "cell_type": "code",
   "execution_count": 1,
   "metadata": {},
   "outputs": [],
   "source": [
    "#\n",
    "from fastai.vision import *\n",
    "\n",
    "# Set main path to dataset\n",
    "\n",
    "path = Path('dataset/sneakers')"
   ]
  },
  {
   "cell_type": "code",
   "execution_count": 4,
   "metadata": {},
   "outputs": [],
   "source": [
    "# Iterate over each list of urls from 'sneaker_class'.txt files and download images into 'path' refer above\n",
    "\n",
    "for file in os.listdir(Path('dataset/urls')):\n",
    "    folder = file[:-4]\n",
    "    dest = path/folder\n",
    "    dest.mkdir(parents=True, exist_ok=True)\n",
    "    download_images(Path('dataset/urls')/file, dest, max_pics=300, max_workers=8, timeout=4)\n",
    "    "
   ]
  },
  {
   "cell_type": "code",
   "execution_count": 9,
   "metadata": {},
   "outputs": [
    {
     "ename": "SystemExit",
     "evalue": "1",
     "output_type": "error",
     "traceback": [
      "\u001b[0;31m---------------------------------------------------------------------------\u001b[0m",
      "\u001b[0;31m_RemoteTraceback\u001b[0m                          Traceback (most recent call last)",
      "\u001b[0;31m_RemoteTraceback\u001b[0m: \n\"\"\"\nTraceback (most recent call last):\n  File \"/home/ec2-user/anaconda3/envs/pytorch_p36/lib/python3.6/site-packages/urllib3/contrib/pyopenssl.py\", line 297, in recv_into\n    return self.connection.recv_into(*args, **kwargs)\n  File \"/home/ec2-user/anaconda3/envs/pytorch_p36/lib/python3.6/site-packages/OpenSSL/SSL.py\", line 1822, in recv_into\n    self._raise_ssl_error(self._ssl, result)\n  File \"/home/ec2-user/anaconda3/envs/pytorch_p36/lib/python3.6/site-packages/OpenSSL/SSL.py\", line 1622, in _raise_ssl_error\n    raise WantReadError()\nOpenSSL.SSL.WantReadError\n\nDuring handling of the above exception, another exception occurred:\n\nTraceback (most recent call last):\n  File \"/home/ec2-user/anaconda3/envs/pytorch_p36/lib/python3.6/site-packages/urllib3/response.py\", line 360, in _error_catcher\n    yield\n  File \"/home/ec2-user/anaconda3/envs/pytorch_p36/lib/python3.6/site-packages/urllib3/response.py\", line 442, in read\n    data = self._fp.read(amt)\n  File \"/home/ec2-user/anaconda3/envs/pytorch_p36/lib/python3.6/http/client.py\", line 449, in read\n    n = self.readinto(b)\n  File \"/home/ec2-user/anaconda3/envs/pytorch_p36/lib/python3.6/http/client.py\", line 493, in readinto\n    n = self.fp.readinto(b)\n  File \"/home/ec2-user/anaconda3/envs/pytorch_p36/lib/python3.6/socket.py\", line 586, in readinto\n    return self._sock.recv_into(b)\n  File \"/home/ec2-user/anaconda3/envs/pytorch_p36/lib/python3.6/site-packages/urllib3/contrib/pyopenssl.py\", line 310, in recv_into\n    raise timeout('The read operation timed out')\nsocket.timeout: The read operation timed out\n\nDuring handling of the above exception, another exception occurred:\n\nTraceback (most recent call last):\n  File \"/home/ec2-user/anaconda3/envs/pytorch_p36/lib/python3.6/site-packages/requests/models.py\", line 750, in generate\n    for chunk in self.raw.stream(chunk_size, decode_content=True):\n  File \"/home/ec2-user/anaconda3/envs/pytorch_p36/lib/python3.6/site-packages/urllib3/response.py\", line 494, in stream\n    data = self.read(amt=amt, decode_content=decode_content)\n  File \"/home/ec2-user/anaconda3/envs/pytorch_p36/lib/python3.6/site-packages/urllib3/response.py\", line 459, in read\n    raise IncompleteRead(self._fp_bytes_read, self.length_remaining)\n  File \"/home/ec2-user/anaconda3/envs/pytorch_p36/lib/python3.6/contextlib.py\", line 99, in __exit__\n    self.gen.throw(type, value, traceback)\n  File \"/home/ec2-user/anaconda3/envs/pytorch_p36/lib/python3.6/site-packages/urllib3/response.py\", line 365, in _error_catcher\n    raise ReadTimeoutError(self._pool, None, 'Read timed out.')\nurllib3.exceptions.ReadTimeoutError: HTTPSConnectionPool(host='yeezygo.store', port=443): Read timed out.\n\nDuring handling of the above exception, another exception occurred:\n\nTraceback (most recent call last):\n  File \"/home/ec2-user/anaconda3/envs/pytorch_p36/lib/python3.6/site-packages/fastai/core.py\", line 211, in download_url\n    for chunk in u.iter_content(chunk_size=chunk_size):\n  File \"/home/ec2-user/anaconda3/envs/pytorch_p36/lib/python3.6/site-packages/requests/models.py\", line 757, in generate\n    raise ConnectionError(e)\nrequests.exceptions.ConnectionError: HTTPSConnectionPool(host='yeezygo.store', port=443): Read timed out.\n\nDuring handling of the above exception, another exception occurred:\n\nTraceback (most recent call last):\n  File \"/home/ec2-user/anaconda3/envs/pytorch_p36/lib/python3.6/concurrent/futures/process.py\", line 175, in _process_worker\n    r = call_item.fn(*call_item.args, **call_item.kwargs)\n  File \"/home/ec2-user/anaconda3/envs/pytorch_p36/lib/python3.6/site-packages/fastai/vision/data.py\", line 190, in _download_image_inner\n    download_image(url, dest/f\"{i:08d}{suffix}\", timeout=timeout)\n  File \"/home/ec2-user/anaconda3/envs/pytorch_p36/lib/python3.6/site-packages/fastai/vision/data.py\", line 184, in download_image\n    try: r = download_url(url, dest, overwrite=True, show_progress=False, timeout=timeout)\n  File \"/home/ec2-user/anaconda3/envs/pytorch_p36/lib/python3.6/site-packages/fastai/core.py\", line 227, in download_url\n    import sys;sys.exit(1)\nSystemExit: 1\n\"\"\"",
      "\nThe above exception was the direct cause of the following exception:\n",
      "\u001b[0;31mSystemExit\u001b[0m                                Traceback (most recent call last)",
      "\u001b[0;32m<ipython-input-7-a23a07cac099>\u001b[0m in \u001b[0;36m<module>\u001b[0;34m()\u001b[0m\n\u001b[1;32m      5\u001b[0m     \u001b[0mdest\u001b[0m \u001b[0;34m=\u001b[0m \u001b[0mpath\u001b[0m\u001b[0;34m/\u001b[0m\u001b[0mfolder\u001b[0m\u001b[0;34m\u001b[0m\u001b[0;34m\u001b[0m\u001b[0m\n\u001b[1;32m      6\u001b[0m     \u001b[0mdest\u001b[0m\u001b[0;34m.\u001b[0m\u001b[0mmkdir\u001b[0m\u001b[0;34m(\u001b[0m\u001b[0mparents\u001b[0m\u001b[0;34m=\u001b[0m\u001b[0;32mTrue\u001b[0m\u001b[0;34m,\u001b[0m \u001b[0mexist_ok\u001b[0m\u001b[0;34m=\u001b[0m\u001b[0;32mTrue\u001b[0m\u001b[0;34m)\u001b[0m\u001b[0;34m\u001b[0m\u001b[0;34m\u001b[0m\u001b[0m\n\u001b[0;32m----> 7\u001b[0;31m     \u001b[0mdownload_images\u001b[0m\u001b[0;34m(\u001b[0m\u001b[0mPath\u001b[0m\u001b[0;34m(\u001b[0m\u001b[0;34m'dataset/urls'\u001b[0m\u001b[0;34m)\u001b[0m\u001b[0;34m/\u001b[0m\u001b[0mfile\u001b[0m\u001b[0;34m,\u001b[0m \u001b[0mdest\u001b[0m\u001b[0;34m,\u001b[0m \u001b[0mmax_pics\u001b[0m\u001b[0;34m=\u001b[0m\u001b[0;36m300\u001b[0m\u001b[0;34m,\u001b[0m \u001b[0mmax_workers\u001b[0m\u001b[0;34m=\u001b[0m\u001b[0;36m8\u001b[0m\u001b[0;34m,\u001b[0m \u001b[0mtimeout\u001b[0m\u001b[0;34m=\u001b[0m\u001b[0;36m4\u001b[0m\u001b[0;34m)\u001b[0m\u001b[0;34m\u001b[0m\u001b[0;34m\u001b[0m\u001b[0m\n\u001b[0m\u001b[1;32m      8\u001b[0m \u001b[0;34m\u001b[0m\u001b[0m\n",
      "\u001b[0;32m~/anaconda3/envs/pytorch_p36/lib/python3.6/site-packages/fastai/vision/data.py\u001b[0m in \u001b[0;36mdownload_images\u001b[0;34m(urls, dest, max_pics, max_workers, timeout)\u001b[0m\n\u001b[1;32m    195\u001b[0m     \u001b[0mdest\u001b[0m \u001b[0;34m=\u001b[0m \u001b[0mPath\u001b[0m\u001b[0;34m(\u001b[0m\u001b[0mdest\u001b[0m\u001b[0;34m)\u001b[0m\u001b[0;34m\u001b[0m\u001b[0;34m\u001b[0m\u001b[0m\n\u001b[1;32m    196\u001b[0m     \u001b[0mdest\u001b[0m\u001b[0;34m.\u001b[0m\u001b[0mmkdir\u001b[0m\u001b[0;34m(\u001b[0m\u001b[0mexist_ok\u001b[0m\u001b[0;34m=\u001b[0m\u001b[0;32mTrue\u001b[0m\u001b[0;34m)\u001b[0m\u001b[0;34m\u001b[0m\u001b[0;34m\u001b[0m\u001b[0m\n\u001b[0;32m--> 197\u001b[0;31m     \u001b[0mparallel\u001b[0m\u001b[0;34m(\u001b[0m\u001b[0mpartial\u001b[0m\u001b[0;34m(\u001b[0m\u001b[0m_download_image_inner\u001b[0m\u001b[0;34m,\u001b[0m \u001b[0mdest\u001b[0m\u001b[0;34m,\u001b[0m \u001b[0mtimeout\u001b[0m\u001b[0;34m=\u001b[0m\u001b[0mtimeout\u001b[0m\u001b[0;34m)\u001b[0m\u001b[0;34m,\u001b[0m \u001b[0murls\u001b[0m\u001b[0;34m,\u001b[0m \u001b[0mmax_workers\u001b[0m\u001b[0;34m=\u001b[0m\u001b[0mmax_workers\u001b[0m\u001b[0;34m)\u001b[0m\u001b[0;34m\u001b[0m\u001b[0;34m\u001b[0m\u001b[0m\n\u001b[0m\u001b[1;32m    198\u001b[0m \u001b[0;34m\u001b[0m\u001b[0m\n\u001b[1;32m    199\u001b[0m \u001b[0;32mdef\u001b[0m \u001b[0mresize_to\u001b[0m\u001b[0;34m(\u001b[0m\u001b[0mimg\u001b[0m\u001b[0;34m,\u001b[0m \u001b[0mtarg_sz\u001b[0m\u001b[0;34m:\u001b[0m\u001b[0mint\u001b[0m\u001b[0;34m,\u001b[0m \u001b[0muse_min\u001b[0m\u001b[0;34m:\u001b[0m\u001b[0mbool\u001b[0m\u001b[0;34m=\u001b[0m\u001b[0;32mFalse\u001b[0m\u001b[0;34m)\u001b[0m\u001b[0;34m:\u001b[0m\u001b[0;34m\u001b[0m\u001b[0;34m\u001b[0m\u001b[0m\n",
      "\u001b[0;32m~/anaconda3/envs/pytorch_p36/lib/python3.6/site-packages/fastai/core.py\u001b[0m in \u001b[0;36mparallel\u001b[0;34m(func, arr, max_workers, leave)\u001b[0m\n\u001b[1;32m    353\u001b[0m             \u001b[0mresults\u001b[0m \u001b[0;34m=\u001b[0m \u001b[0;34m[\u001b[0m\u001b[0;34m]\u001b[0m\u001b[0;34m\u001b[0m\u001b[0;34m\u001b[0m\u001b[0m\n\u001b[1;32m    354\u001b[0m             \u001b[0;32mfor\u001b[0m \u001b[0mf\u001b[0m \u001b[0;32min\u001b[0m \u001b[0mprogress_bar\u001b[0m\u001b[0;34m(\u001b[0m\u001b[0mconcurrent\u001b[0m\u001b[0;34m.\u001b[0m\u001b[0mfutures\u001b[0m\u001b[0;34m.\u001b[0m\u001b[0mas_completed\u001b[0m\u001b[0;34m(\u001b[0m\u001b[0mfutures\u001b[0m\u001b[0;34m)\u001b[0m\u001b[0;34m,\u001b[0m \u001b[0mtotal\u001b[0m\u001b[0;34m=\u001b[0m\u001b[0mlen\u001b[0m\u001b[0;34m(\u001b[0m\u001b[0marr\u001b[0m\u001b[0;34m)\u001b[0m\u001b[0;34m,\u001b[0m \u001b[0mleave\u001b[0m\u001b[0;34m=\u001b[0m\u001b[0mleave\u001b[0m\u001b[0;34m)\u001b[0m\u001b[0;34m:\u001b[0m\u001b[0;34m\u001b[0m\u001b[0;34m\u001b[0m\u001b[0m\n\u001b[0;32m--> 355\u001b[0;31m                 \u001b[0mresults\u001b[0m\u001b[0;34m.\u001b[0m\u001b[0mappend\u001b[0m\u001b[0;34m(\u001b[0m\u001b[0mf\u001b[0m\u001b[0;34m.\u001b[0m\u001b[0mresult\u001b[0m\u001b[0;34m(\u001b[0m\u001b[0;34m)\u001b[0m\u001b[0;34m)\u001b[0m\u001b[0;34m\u001b[0m\u001b[0;34m\u001b[0m\u001b[0m\n\u001b[0m\u001b[1;32m    356\u001b[0m     \u001b[0;32mif\u001b[0m \u001b[0many\u001b[0m\u001b[0;34m(\u001b[0m\u001b[0;34m[\u001b[0m\u001b[0mo\u001b[0m \u001b[0;32mis\u001b[0m \u001b[0;32mnot\u001b[0m \u001b[0;32mNone\u001b[0m \u001b[0;32mfor\u001b[0m \u001b[0mo\u001b[0m \u001b[0;32min\u001b[0m \u001b[0mresults\u001b[0m\u001b[0;34m]\u001b[0m\u001b[0;34m)\u001b[0m\u001b[0;34m:\u001b[0m \u001b[0;32mreturn\u001b[0m \u001b[0mresults\u001b[0m\u001b[0;34m\u001b[0m\u001b[0;34m\u001b[0m\u001b[0m\n\u001b[1;32m    357\u001b[0m \u001b[0;34m\u001b[0m\u001b[0m\n",
      "\u001b[0;32m~/anaconda3/envs/pytorch_p36/lib/python3.6/concurrent/futures/_base.py\u001b[0m in \u001b[0;36mresult\u001b[0;34m(self, timeout)\u001b[0m\n\u001b[1;32m    423\u001b[0m                 \u001b[0;32mraise\u001b[0m \u001b[0mCancelledError\u001b[0m\u001b[0;34m(\u001b[0m\u001b[0;34m)\u001b[0m\u001b[0;34m\u001b[0m\u001b[0;34m\u001b[0m\u001b[0m\n\u001b[1;32m    424\u001b[0m             \u001b[0;32melif\u001b[0m \u001b[0mself\u001b[0m\u001b[0;34m.\u001b[0m\u001b[0m_state\u001b[0m \u001b[0;34m==\u001b[0m \u001b[0mFINISHED\u001b[0m\u001b[0;34m:\u001b[0m\u001b[0;34m\u001b[0m\u001b[0;34m\u001b[0m\u001b[0m\n\u001b[0;32m--> 425\u001b[0;31m                 \u001b[0;32mreturn\u001b[0m \u001b[0mself\u001b[0m\u001b[0;34m.\u001b[0m\u001b[0m__get_result\u001b[0m\u001b[0;34m(\u001b[0m\u001b[0;34m)\u001b[0m\u001b[0;34m\u001b[0m\u001b[0;34m\u001b[0m\u001b[0m\n\u001b[0m\u001b[1;32m    426\u001b[0m \u001b[0;34m\u001b[0m\u001b[0m\n\u001b[1;32m    427\u001b[0m             \u001b[0mself\u001b[0m\u001b[0;34m.\u001b[0m\u001b[0m_condition\u001b[0m\u001b[0;34m.\u001b[0m\u001b[0mwait\u001b[0m\u001b[0;34m(\u001b[0m\u001b[0mtimeout\u001b[0m\u001b[0;34m)\u001b[0m\u001b[0;34m\u001b[0m\u001b[0;34m\u001b[0m\u001b[0m\n",
      "\u001b[0;32m~/anaconda3/envs/pytorch_p36/lib/python3.6/concurrent/futures/_base.py\u001b[0m in \u001b[0;36m__get_result\u001b[0;34m(self)\u001b[0m\n\u001b[1;32m    382\u001b[0m     \u001b[0;32mdef\u001b[0m \u001b[0m__get_result\u001b[0m\u001b[0;34m(\u001b[0m\u001b[0mself\u001b[0m\u001b[0;34m)\u001b[0m\u001b[0;34m:\u001b[0m\u001b[0;34m\u001b[0m\u001b[0;34m\u001b[0m\u001b[0m\n\u001b[1;32m    383\u001b[0m         \u001b[0;32mif\u001b[0m \u001b[0mself\u001b[0m\u001b[0;34m.\u001b[0m\u001b[0m_exception\u001b[0m\u001b[0;34m:\u001b[0m\u001b[0;34m\u001b[0m\u001b[0;34m\u001b[0m\u001b[0m\n\u001b[0;32m--> 384\u001b[0;31m             \u001b[0;32mraise\u001b[0m \u001b[0mself\u001b[0m\u001b[0;34m.\u001b[0m\u001b[0m_exception\u001b[0m\u001b[0;34m\u001b[0m\u001b[0;34m\u001b[0m\u001b[0m\n\u001b[0m\u001b[1;32m    385\u001b[0m         \u001b[0;32melse\u001b[0m\u001b[0;34m:\u001b[0m\u001b[0;34m\u001b[0m\u001b[0;34m\u001b[0m\u001b[0m\n\u001b[1;32m    386\u001b[0m             \u001b[0;32mreturn\u001b[0m \u001b[0mself\u001b[0m\u001b[0;34m.\u001b[0m\u001b[0m_result\u001b[0m\u001b[0;34m\u001b[0m\u001b[0;34m\u001b[0m\u001b[0m\n",
      "\u001b[0;31mSystemExit\u001b[0m: 1"
     ]
    }
   ],
   "source": [
    "%tb"
   ]
  },
  {
   "cell_type": "code",
   "execution_count": 5,
   "metadata": {},
   "outputs": [
    {
     "name": "stdout",
     "output_type": "stream",
     "text": [
      "['Nike_React_Element_87_Orange_Peel', 'Air_Max_97_Shanghai_Kaleidoscope', 'Air_Max_1_Atmos_Elephant', 'Air_Zoom_Terra_Kiger_5_Off-White_Black', 'Air_Max_1_Atmos_Supreme_Animal_Pack', 'Air_Max_97_Silver_Bullet.', 'Adidas_Human_Race_NMD_Pharrell_x_Chanel', 'Yeezy_Boost_700_Wave_Runner_Solid_Grey', 'Air_Max_90_Off-White_Black', 'Yeezy_Boost_350_V2_Cream_White', 'Air_Max_90_Off-White_Desert_Ore', 'Yeezy_Boost_700_Inertia', 'Air_Zoom_Terra_Kiger_5_Off-White_White', 'Converse_Comme_Des_Garcons', 'Yeezy_Boost_350_V2_Black_Red', '.ipynb_checkpo', 'Air_Max_1_Atmos_Animal_Pack', 'Air_Vapormax_Off-White_White', 'Air_Max_1_97_Sean_Weatherspoon', 'Converse_Chuck_70_Off-White_White', 'Jordan_6_Retro_Infrared', 'Air_Presto_Off-White_Black', 'Air_Max_90_Infrared', 'Nike_React_Element_87_Volt_Racer_Pink', 'Air_Fear_of_God_1_Sail_Black', 'Jordan_3_Retro_Og_Black_Cement', 'Air_Yeezy_2_Red_October', 'Jordan_1_Retro_High_Travis_Scott', 'Air_Zoom_Fly_SP_Off-White_Tulip_Pink', 'Air_Force_1_Off-White_Volt', 'Nike_LD_Waffle_Sacai_Blue_Multi', 'Yeezy_Boost_350_V2_Clay', 'Jordan_4_Retro_Bred', 'Yeezy_Boost_350_V2_Glow', 'Yeezy_Boost_350_V2_Frozen_Yellow', 'Jordan_4_Retro_Og_White_Cement', 'Air_Presto_Off-White_Ten', 'Yeezy_Boost_350_V2_Zebra', 'Air_Presto_Off-White_White', 'Jordan_1_Retro_High_Off-White_University_Blue']\n",
      "40\n"
     ]
    }
   ],
   "source": [
    "# List out all sneaker classes & number of classes \n",
    "\n",
    "classes = []\n",
    "for file in os.listdir(Path('dataset/sneakers')):\n",
    "    shoe_name = file\n",
    "    if shoe_name in classes:\n",
    "        pass\n",
    "    else:\n",
    "        classes.append(shoe_name)\n",
    "print(classes)\n",
    "print(len(classes))"
   ]
  },
  {
   "cell_type": "code",
   "execution_count": null,
   "metadata": {},
   "outputs": [
    {
     "name": "stdout",
     "output_type": "stream",
     "text": [
      "Air_Force_1_Off-White_Volt\n"
     ]
    },
    {
     "data": {
      "text/html": [
       "\n",
       "    <div>\n",
       "        <style>\n",
       "            /* Turns off some styling */\n",
       "            progress {\n",
       "                /* gets rid of default border in Firefox and Opera. */\n",
       "                border: none;\n",
       "                /* Needs to be in here for Safari polyfill so background images work as expected. */\n",
       "                background-size: auto;\n",
       "            }\n",
       "            .progress-bar-interrupted, .progress-bar-interrupted::-webkit-progress-bar {\n",
       "                background: #F44336;\n",
       "            }\n",
       "        </style>\n",
       "      <progress value='91' class='' max='231', style='width:300px; height:20px; vertical-align: middle;'></progress>\n",
       "      39.39% [91/231 00:01<00:02]\n",
       "    </div>\n",
       "    "
      ],
      "text/plain": [
       "<IPython.core.display.HTML object>"
      ]
     },
     "metadata": {},
     "output_type": "display_data"
    },
    {
     "name": "stdout",
     "output_type": "stream",
     "text": [
      "image file could not be identified because WEBP support not installed\n",
      "image file could not be identified because WEBP support not installed\n",
      "cannot identify image file <_io.BufferedReader name='dataset/sneakers/Air_Force_1_Off-White_Volt/00000049.jpg'>\n",
      "cannot identify image file <_io.BufferedReader name='dataset/sneakers/Air_Force_1_Off-White_Volt/00000088.png'>\n",
      "cannot identify image file <_io.BufferedReader name='dataset/sneakers/Air_Force_1_Off-White_Volt/00000053.png'>\n",
      "cannot identify image file <_io.BufferedReader name='dataset/sneakers/Air_Force_1_Off-White_Volt/00000159.png'>\n",
      "cannot identify image file <_io.BufferedReader name='dataset/sneakers/Air_Force_1_Off-White_Volt/00000109.jpg'>\n"
     ]
    }
   ],
   "source": [
    "# Verify images for each sneaker class\n",
    "\n",
    "for c in classes:\n",
    "    print(c)\n",
    "    verify_images(path/c, delete=True)"
   ]
  },
  {
   "cell_type": "code",
   "execution_count": 2,
   "metadata": {},
   "outputs": [],
   "source": [
    "# dest = Path('dataset/sneakers/Air_Max_97_Shanghai_Kaleidoscope')\n",
    "# dest.mkdir(parents=True, exist_ok=True)\n",
    "# download_images('dataset/urls/Air_Max_97_Shanghai_Kaleidoscope.txt', dest, max_pics=400)"
   ]
  },
  {
   "cell_type": "code",
   "execution_count": null,
   "metadata": {},
   "outputs": [],
   "source": []
  }
 ],
 "metadata": {
  "kernelspec": {
   "display_name": "Python 3",
   "language": "python",
   "name": "python3"
  },
  "language_info": {
   "codemirror_mode": {
    "name": "ipython",
    "version": 3
   },
   "file_extension": ".py",
   "mimetype": "text/x-python",
   "name": "python",
   "nbconvert_exporter": "python",
   "pygments_lexer": "ipython3",
   "version": "3.6.5"
  }
 },
 "nbformat": 4,
 "nbformat_minor": 2
}
